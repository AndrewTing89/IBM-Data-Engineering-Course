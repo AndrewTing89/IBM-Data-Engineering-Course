{
  "cells": [
    {
      "cell_type": "markdown",
      "metadata": {
        "id": "view-in-github",
        "colab_type": "text"
      },
      "source": [
        "<a href=\"https://colab.research.google.com/github/AndrewTing89/IBM-Data-Engineering-Course/blob/main/P1_Exchange_Rate_ETL.ipynb\" target=\"_parent\"><img src=\"https://colab.research.google.com/assets/colab-badge.svg\" alt=\"Open In Colab\"/></a>"
      ]
    },
    {
      "cell_type": "markdown",
      "metadata": {
        "id": "kbLozwInSyrg"
      },
      "source": [
        "<p style=\"text-align:center\">\n",
        "    <a href=\"https://skills.network/?utm_medium=Exinfluencer&utm_source=Exinfluencer&utm_content=000026UJ&utm_term=10006555&utm_id=NA-SkillsNetwork-Channel-SkillsNetworkCoursesIBMDeveloperSkillsNetworkPY0221ENSkillsNetwork23455645-2022-01-01\" target=\"_blank\">\n",
        "    <img src=\"https://cf-courses-data.s3.us.cloud-object-storage.appdomain.cloud/assets/logos/SN_web_lightmode.png\" width=\"200\" alt=\"Skills Network Logo\"  />\n",
        "    </a>\n",
        "</p>\n"
      ]
    },
    {
      "cell_type": "markdown",
      "metadata": {
        "id": "4ddSc5hzSyri"
      },
      "source": [
        "# Peer Review Assignment - Data Engineer - ETL\n"
      ]
    },
    {
      "cell_type": "markdown",
      "metadata": {
        "id": "-wvP6O4SSyrj"
      },
      "source": [
        "Estimated time needed: **20** minutes\n"
      ]
    },
    {
      "cell_type": "markdown",
      "metadata": {
        "id": "j8OR1kJJSyrj"
      },
      "source": [
        "## Objectives\n",
        "\n",
        "In this final part you will:\n",
        "\n",
        "*   Run the ETL process\n",
        "*   Extract bank and market cap data from the JSON file `bank_market_cap.json`\n",
        "*   Transform the market cap currency using the exchange rate data\n",
        "*   Load the transformed data into a seperate CSV\n"
      ]
    },
    {
      "cell_type": "markdown",
      "metadata": {
        "id": "bY2g-VghSyrj"
      },
      "source": [
        "For this lab, we are going to be using Python and several Python libraries. Some of these libraries might be installed in your lab environment or in SN Labs. Others may need to be installed by you. The cells below will install these libraries when executed.\n"
      ]
    },
    {
      "cell_type": "code",
      "execution_count": null,
      "metadata": {
        "id": "1qa6eUzASyrj",
        "outputId": "141e8d0f-0eaa-4c02-a52e-95b34929e497"
      },
      "outputs": [
        {
          "name": "stdout",
          "output_type": "stream",
          "text": [
            "/usr/bin/sh: mamba: command not found\n",
            "/usr/bin/sh: mamba: command not found\n"
          ]
        }
      ],
      "source": [
        "!mamba install pandas==1.3.3 -y\n",
        "!mamba install requests==2.26.0 -y"
      ]
    },
    {
      "cell_type": "markdown",
      "metadata": {
        "id": "FMcceEZvSyrk"
      },
      "source": [
        "## Imports\n",
        "\n",
        "Import any additional libraries you may need here.\n"
      ]
    },
    {
      "cell_type": "code",
      "execution_count": null,
      "metadata": {
        "id": "WAUbH8kgSyrl"
      },
      "outputs": [],
      "source": [
        "import glob\n",
        "import pandas as pd\n",
        "from datetime import datetime"
      ]
    },
    {
      "cell_type": "markdown",
      "metadata": {
        "id": "i5EtixCqSyrl"
      },
      "source": [
        "As the exchange rate fluctuates, we will download the same dataset to make marking simpler. This will be in the same format as the dataset you used in the last section\n"
      ]
    },
    {
      "cell_type": "code",
      "execution_count": null,
      "metadata": {
        "id": "N2jUgU6cSyrl",
        "outputId": "263a2499-29bd-4111-d1bd-5793ec6fbee5"
      },
      "outputs": [
        {
          "name": "stdout",
          "output_type": "stream",
          "text": [
            "--2022-08-12 01:52:55--  https://cf-courses-data.s3.us.cloud-object-storage.appdomain.cloud/IBMDeveloperSkillsNetwork-PY0221EN-SkillsNetwork/labs/module%206/Lab%20-%20Extract%20Transform%20Load/data/bank_market_cap_1.json\n",
            "Resolving cf-courses-data.s3.us.cloud-object-storage.appdomain.cloud (cf-courses-data.s3.us.cloud-object-storage.appdomain.cloud)... 198.23.119.245\n",
            "Connecting to cf-courses-data.s3.us.cloud-object-storage.appdomain.cloud (cf-courses-data.s3.us.cloud-object-storage.appdomain.cloud)|198.23.119.245|:443... connected.\n",
            "HTTP request sent, awaiting response... 200 OK\n",
            "Length: 2815 (2.7K) [application/json]\n",
            "Saving to: ‘bank_market_cap_1.json.1’\n",
            "\n",
            "bank_market_cap_1.j 100%[===================>]   2.75K  --.-KB/s    in 0s      \n",
            "\n",
            "2022-08-12 01:52:55 (73.5 MB/s) - ‘bank_market_cap_1.json.1’ saved [2815/2815]\n",
            "\n",
            "--2022-08-12 01:52:56--  https://cf-courses-data.s3.us.cloud-object-storage.appdomain.cloud/IBMDeveloperSkillsNetwork-PY0221EN-SkillsNetwork/labs/module%206/Lab%20-%20Extract%20Transform%20Load/data/bank_market_cap_2.json\n",
            "Resolving cf-courses-data.s3.us.cloud-object-storage.appdomain.cloud (cf-courses-data.s3.us.cloud-object-storage.appdomain.cloud)... 198.23.119.245\n",
            "Connecting to cf-courses-data.s3.us.cloud-object-storage.appdomain.cloud (cf-courses-data.s3.us.cloud-object-storage.appdomain.cloud)|198.23.119.245|:443... connected.\n",
            "HTTP request sent, awaiting response... 200 OK\n",
            "Length: 1429 (1.4K) [application/json]\n",
            "Saving to: ‘bank_market_cap_2.json.1’\n",
            "\n",
            "bank_market_cap_2.j 100%[===================>]   1.40K  --.-KB/s    in 0s      \n",
            "\n",
            "2022-08-12 01:52:56 (39.3 MB/s) - ‘bank_market_cap_2.json.1’ saved [1429/1429]\n",
            "\n",
            "--2022-08-12 01:52:57--  https://cf-courses-data.s3.us.cloud-object-storage.appdomain.cloud/IBMDeveloperSkillsNetwork-PY0221EN-SkillsNetwork/labs/module%206/Final%20Assignment/exchange_rates.csv\n",
            "Resolving cf-courses-data.s3.us.cloud-object-storage.appdomain.cloud (cf-courses-data.s3.us.cloud-object-storage.appdomain.cloud)... 198.23.119.245\n",
            "Connecting to cf-courses-data.s3.us.cloud-object-storage.appdomain.cloud (cf-courses-data.s3.us.cloud-object-storage.appdomain.cloud)|198.23.119.245|:443... connected.\n",
            "HTTP request sent, awaiting response... 200 OK\n",
            "Length: 590 [text/csv]\n",
            "Saving to: ‘exchange_rates.csv.1’\n",
            "\n",
            "exchange_rates.csv. 100%[===================>]     590  --.-KB/s    in 0s      \n",
            "\n",
            "2022-08-12 01:52:57 (16.9 MB/s) - ‘exchange_rates.csv.1’ saved [590/590]\n",
            "\n"
          ]
        }
      ],
      "source": [
        "!wget https://cf-courses-data.s3.us.cloud-object-storage.appdomain.cloud/IBMDeveloperSkillsNetwork-PY0221EN-SkillsNetwork/labs/module%206/Lab%20-%20Extract%20Transform%20Load/data/bank_market_cap_1.json\n",
        "!wget https://cf-courses-data.s3.us.cloud-object-storage.appdomain.cloud/IBMDeveloperSkillsNetwork-PY0221EN-SkillsNetwork/labs/module%206/Lab%20-%20Extract%20Transform%20Load/data/bank_market_cap_2.json\n",
        "!wget https://cf-courses-data.s3.us.cloud-object-storage.appdomain.cloud/IBMDeveloperSkillsNetwork-PY0221EN-SkillsNetwork/labs/module%206/Final%20Assignment/exchange_rates.csv"
      ]
    },
    {
      "cell_type": "markdown",
      "metadata": {
        "id": "oghMv2vCSyrm"
      },
      "source": [
        "## Extract\n"
      ]
    },
    {
      "cell_type": "markdown",
      "metadata": {
        "id": "aIQb4_LaSyrm"
      },
      "source": [
        "### JSON Extract Function\n",
        "\n",
        "This function will extract JSON files.\n"
      ]
    },
    {
      "cell_type": "code",
      "execution_count": null,
      "metadata": {
        "id": "oAy1aMu-Syrm"
      },
      "outputs": [],
      "source": [
        "def extract_from_json(file_to_process):\n",
        "    dataframe = pd.read_json(file_to_process)\n",
        "    return dataframe"
      ]
    },
    {
      "cell_type": "markdown",
      "metadata": {
        "id": "-9S0gn8jSyrn"
      },
      "source": [
        "## Extract Function\n",
        "\n",
        "Define the extract function that finds JSON file `bank_market_cap_1.json` and calls the function created above to extract data from them. Store the data in a `pandas` dataframe. Use the following list for the columns.\n"
      ]
    },
    {
      "cell_type": "code",
      "execution_count": null,
      "metadata": {
        "id": "akO4wxw1Syrn"
      },
      "outputs": [],
      "source": [
        "columns=['Name','Market Cap (US$ Billion)']"
      ]
    },
    {
      "cell_type": "code",
      "execution_count": null,
      "metadata": {
        "id": "RL1K0gRfSyrn"
      },
      "outputs": [],
      "source": [
        "def extract():\n",
        "    # Write your code here\n",
        "    extracted_data=pd.DataFrame(columns=['Name','Market Cap (US$ Billion)'])\n",
        "    for jsonfile in glob.glob(\"*.json\"):\n",
        "        extracted_data=extract_from_json(jsonfile)\n",
        "        \n",
        "    return extracted_data"
      ]
    },
    {
      "cell_type": "markdown",
      "metadata": {
        "id": "zSHbvQvuSyrn"
      },
      "source": [
        "<b>Question 1</b> Load the file <code>exchange_rates.csv</code> as a dataframe and find the exchange rate for British pounds with the symbol <code>GBP</code>, store it in the variable  <code>exchange_rate</code>, you will be asked for the number. Hint: set the parameter  <code>index_col</code> to 0.\n"
      ]
    },
    {
      "cell_type": "code",
      "execution_count": null,
      "metadata": {
        "id": "uLF1mOCOSyrn",
        "outputId": "9f8035aa-0ecb-4a04-e754-353e98beb038"
      },
      "outputs": [
        {
          "name": "stdout",
          "output_type": "stream",
          "text": [
            "0.7323984208000001\n"
          ]
        }
      ],
      "source": [
        "# Write your code here\n",
        "\n",
        "df=pd.read_csv(\"exchange_rates.csv\")\n",
        "\n",
        "df.rename( columns={'Unnamed: 0':'Pounds'}, inplace=True )\n",
        "df1=df.loc[df[\"Pounds\"] == 'GBP']\n",
        "df1\n",
        "exchange_rate=float(df1[\"Rates\"].values)\n",
        "print(exchange_rate)"
      ]
    },
    {
      "cell_type": "markdown",
      "metadata": {
        "id": "bba-75TISyro"
      },
      "source": [
        "## Transform\n",
        "\n",
        "Using <code>exchange_rate</code> and the `exchange_rates.csv` file find the exchange rate of USD to GBP. Write a transform function that\n",
        "\n",
        "1.  Changes the `Market Cap (US$ Billion)` column from USD to GBP\n",
        "2.  Rounds the Market Cap (US$ Billion)\\` column to 3 decimal places\n",
        "3.  Rename `Market Cap (US$ Billion)` to `Market Cap (GBP$ Billion)`\n"
      ]
    },
    {
      "cell_type": "code",
      "execution_count": null,
      "metadata": {
        "id": "2AF43Dz_Syro"
      },
      "outputs": [],
      "source": [
        "def transform(data):\n",
        "    # Write your code here\n",
        "    data['Market Cap (US$ Billion)']= round(data['Market Cap (US$ Billion)']*exchange_rate,3)\n",
        "    #print(data['Market Cap (US$ Billion)'])\n",
        "    data=data.rename(columns={\"Market Cap (US$ Billion)\":\"Market Cap (GBP$ Billion)\"},inplace=False)\n",
        "    return data"
      ]
    },
    {
      "cell_type": "markdown",
      "metadata": {
        "id": "jMaIIaMiSyro"
      },
      "source": [
        "## Load\n",
        "\n",
        "Create a function that takes a dataframe and load it to a csv named `bank_market_cap_gbp.csv`. Make sure to set `index` to `False`.\n"
      ]
    },
    {
      "cell_type": "code",
      "execution_count": null,
      "metadata": {
        "id": "lsm8B0WuSyro"
      },
      "outputs": [],
      "source": [
        "targetfile=\"bank_matket_cap_gbp.csv\"\n",
        "def load(targetfile,datatoload):\n",
        "    datatoload.to_csv(targetfile, index=False)"
      ]
    },
    {
      "cell_type": "markdown",
      "metadata": {
        "id": "E9rNJGUSSyro"
      },
      "source": [
        "## Logging Function\n"
      ]
    },
    {
      "cell_type": "markdown",
      "metadata": {
        "id": "7XjGi-A9Syrp"
      },
      "source": [
        "Write the logging function <code>log</code> to log your data:\n"
      ]
    },
    {
      "cell_type": "code",
      "execution_count": null,
      "metadata": {
        "id": "kNt93956Syrp"
      },
      "outputs": [],
      "source": [
        "def log(message):\n",
        "    # Write your code here\n",
        "    timestamp_format='%Y-%h-%d-%H%M%S'\n",
        "    now=datetime.now()\n",
        "    timestamp=now.strftime(timestamp_format)\n",
        "    with open(\"logfile.txt\",\"a\") as f:\n",
        "        f.write(timestamp+','+message+'\\n')\n",
        "    "
      ]
    },
    {
      "cell_type": "markdown",
      "metadata": {
        "id": "9qlxlb8pSyrp"
      },
      "source": [
        "## Running the ETL Process\n"
      ]
    },
    {
      "cell_type": "markdown",
      "metadata": {
        "id": "AUqNRiXDSyrp"
      },
      "source": [
        "Log the process accordingly using the following <code>\"ETL Job Started\"</code> and <code>\"Extract phase Started\"</code>\n"
      ]
    },
    {
      "cell_type": "code",
      "execution_count": null,
      "metadata": {
        "id": "AQ9vVP-tSyrp"
      },
      "outputs": [],
      "source": [
        "# Write your code here\n",
        "log(\"ETL Job Started\")\n",
        "log(\"Extract Phase Started\")"
      ]
    },
    {
      "cell_type": "markdown",
      "metadata": {
        "id": "Wb1ioyTGSyrp"
      },
      "source": [
        "### Extract\n"
      ]
    },
    {
      "cell_type": "markdown",
      "metadata": {
        "id": "zDvz5CT7Syrp"
      },
      "source": [
        "<code>Question 2</code> Use the function <code>extract</code>, and print the first 5 rows, take a screen shot:\n"
      ]
    },
    {
      "cell_type": "code",
      "execution_count": null,
      "metadata": {
        "id": "SY6ByIJESyrq",
        "outputId": "719b3391-1df9-4805-813e-e31bb90954b3"
      },
      "outputs": [
        {
          "data": {
            "text/html": [
              "<div>\n",
              "<style scoped>\n",
              "    .dataframe tbody tr th:only-of-type {\n",
              "        vertical-align: middle;\n",
              "    }\n",
              "\n",
              "    .dataframe tbody tr th {\n",
              "        vertical-align: top;\n",
              "    }\n",
              "\n",
              "    .dataframe thead th {\n",
              "        text-align: right;\n",
              "    }\n",
              "</style>\n",
              "<table border=\"1\" class=\"dataframe\">\n",
              "  <thead>\n",
              "    <tr style=\"text-align: right;\">\n",
              "      <th></th>\n",
              "      <th>Name</th>\n",
              "      <th>Market Cap (US$ Billion)</th>\n",
              "    </tr>\n",
              "  </thead>\n",
              "  <tbody>\n",
              "    <tr>\n",
              "      <th>0</th>\n",
              "      <td>JPMorgan Chase</td>\n",
              "      <td>390.934</td>\n",
              "    </tr>\n",
              "    <tr>\n",
              "      <th>1</th>\n",
              "      <td>Industrial and Commercial Bank of China</td>\n",
              "      <td>345.214</td>\n",
              "    </tr>\n",
              "    <tr>\n",
              "      <th>2</th>\n",
              "      <td>Bank of America</td>\n",
              "      <td>325.331</td>\n",
              "    </tr>\n",
              "    <tr>\n",
              "      <th>3</th>\n",
              "      <td>Wells Fargo</td>\n",
              "      <td>308.013</td>\n",
              "    </tr>\n",
              "    <tr>\n",
              "      <th>4</th>\n",
              "      <td>China Construction Bank</td>\n",
              "      <td>257.399</td>\n",
              "    </tr>\n",
              "  </tbody>\n",
              "</table>\n",
              "</div>"
            ],
            "text/plain": [
              "                                      Name  Market Cap (US$ Billion)\n",
              "0                           JPMorgan Chase                   390.934\n",
              "1  Industrial and Commercial Bank of China                   345.214\n",
              "2                          Bank of America                   325.331\n",
              "3                              Wells Fargo                   308.013\n",
              "4                  China Construction Bank                   257.399"
            ]
          },
          "execution_count": 83,
          "metadata": {},
          "output_type": "execute_result"
        }
      ],
      "source": [
        "# Call the function here\n",
        "extract_data=extract()\n",
        "# Print the rows here\n",
        "extract_data.head(5)"
      ]
    },
    {
      "cell_type": "markdown",
      "metadata": {
        "id": "UcSj972iSyrq"
      },
      "source": [
        "Log the data as <code>\"Extract phase Ended\"</code>\n"
      ]
    },
    {
      "cell_type": "code",
      "execution_count": null,
      "metadata": {
        "id": "QvdCkO53Syrq"
      },
      "outputs": [],
      "source": [
        "# Write your code here\n",
        "log(\"Extract phase Ended\")"
      ]
    },
    {
      "cell_type": "markdown",
      "metadata": {
        "id": "C4F7Rf1sSyrq"
      },
      "source": [
        "### Transform\n"
      ]
    },
    {
      "cell_type": "markdown",
      "metadata": {
        "id": "_VY_A1m9Syrq"
      },
      "source": [
        "Log the following  <code>\"Transform phase Started\"</code>\n"
      ]
    },
    {
      "cell_type": "code",
      "execution_count": null,
      "metadata": {
        "id": "A99xtCX1Syrq"
      },
      "outputs": [],
      "source": [
        "# Write your code here\n",
        "log(\"Transform phase Started\")\n",
        "\n"
      ]
    },
    {
      "cell_type": "markdown",
      "metadata": {
        "id": "0QEGCSt1Syrq"
      },
      "source": [
        "<code>Question 3</code> Use the function <code>transform</code> and print the first 5 rows of the output, take a screen shot:\n"
      ]
    },
    {
      "cell_type": "code",
      "execution_count": null,
      "metadata": {
        "id": "bB4I-xZSSyrr",
        "outputId": "6d796150-8d25-4b49-f18e-54e08cb5a3f2"
      },
      "outputs": [
        {
          "data": {
            "text/html": [
              "<div>\n",
              "<style scoped>\n",
              "    .dataframe tbody tr th:only-of-type {\n",
              "        vertical-align: middle;\n",
              "    }\n",
              "\n",
              "    .dataframe tbody tr th {\n",
              "        vertical-align: top;\n",
              "    }\n",
              "\n",
              "    .dataframe thead th {\n",
              "        text-align: right;\n",
              "    }\n",
              "</style>\n",
              "<table border=\"1\" class=\"dataframe\">\n",
              "  <thead>\n",
              "    <tr style=\"text-align: right;\">\n",
              "      <th></th>\n",
              "      <th>Name</th>\n",
              "      <th>Market Cap (GBP$ Billion)</th>\n",
              "    </tr>\n",
              "  </thead>\n",
              "  <tbody>\n",
              "    <tr>\n",
              "      <th>0</th>\n",
              "      <td>JPMorgan Chase</td>\n",
              "      <td>286.319</td>\n",
              "    </tr>\n",
              "    <tr>\n",
              "      <th>1</th>\n",
              "      <td>Industrial and Commercial Bank of China</td>\n",
              "      <td>252.834</td>\n",
              "    </tr>\n",
              "    <tr>\n",
              "      <th>2</th>\n",
              "      <td>Bank of America</td>\n",
              "      <td>238.272</td>\n",
              "    </tr>\n",
              "    <tr>\n",
              "      <th>3</th>\n",
              "      <td>Wells Fargo</td>\n",
              "      <td>225.588</td>\n",
              "    </tr>\n",
              "    <tr>\n",
              "      <th>4</th>\n",
              "      <td>China Construction Bank</td>\n",
              "      <td>188.519</td>\n",
              "    </tr>\n",
              "  </tbody>\n",
              "</table>\n",
              "</div>"
            ],
            "text/plain": [
              "                                      Name  Market Cap (GBP$ Billion)\n",
              "0                           JPMorgan Chase                    286.319\n",
              "1  Industrial and Commercial Bank of China                    252.834\n",
              "2                          Bank of America                    238.272\n",
              "3                              Wells Fargo                    225.588\n",
              "4                  China Construction Bank                    188.519"
            ]
          },
          "execution_count": 53,
          "metadata": {},
          "output_type": "execute_result"
        }
      ],
      "source": [
        "# Call the function here\n",
        "transformed_data = transform(extract_data)\n",
        "\n",
        "# Print the first 5 rows here\n",
        "transformed_data.head(5)"
      ]
    },
    {
      "cell_type": "markdown",
      "metadata": {
        "id": "i1cr2mZmSyrr"
      },
      "source": [
        "Log your data <code>\"Transform phase Ended\"</code>\n"
      ]
    },
    {
      "cell_type": "code",
      "execution_count": null,
      "metadata": {
        "id": "XLvcXqp4Syrr"
      },
      "outputs": [],
      "source": [
        "# Write your code here\n",
        "log(\"Transform phase Ended\")"
      ]
    },
    {
      "cell_type": "markdown",
      "metadata": {
        "id": "4jXdhQBPSyrr"
      },
      "source": [
        "### Load\n"
      ]
    },
    {
      "cell_type": "markdown",
      "metadata": {
        "id": "3m0PDiXDSyrr"
      },
      "source": [
        "Log the following `\"Load phase Started\"`.\n"
      ]
    },
    {
      "cell_type": "code",
      "execution_count": null,
      "metadata": {
        "id": "_8o86cBASyrr"
      },
      "outputs": [],
      "source": [
        "# Write your code here\n",
        "log(\"Load phase Started\")\n"
      ]
    },
    {
      "cell_type": "markdown",
      "metadata": {
        "id": "9NmYe7IOSyrr"
      },
      "source": [
        "Call the load function\n"
      ]
    },
    {
      "cell_type": "code",
      "execution_count": null,
      "metadata": {
        "id": "3NEjcmDSSyrs"
      },
      "outputs": [],
      "source": [
        "load(targetfile,transformed_data)\n"
      ]
    },
    {
      "cell_type": "markdown",
      "metadata": {
        "id": "Yr7CVCWMSyrs"
      },
      "source": [
        "Log the following `\"Load phase Ended\"`.\n"
      ]
    },
    {
      "cell_type": "code",
      "execution_count": null,
      "metadata": {
        "id": "6PhSqBycSyrs"
      },
      "outputs": [],
      "source": [
        "# Write your code here\n",
        "log(\"Load phase Ended\")"
      ]
    },
    {
      "cell_type": "markdown",
      "metadata": {
        "id": "V9OcU0WPSyrs"
      },
      "source": [
        "## Authors\n"
      ]
    },
    {
      "cell_type": "markdown",
      "metadata": {
        "id": "YBe_M6TrSyrs"
      },
      "source": [
        "Ramesh Sannareddy, Joseph Santrcangelo and Azim Hirjani\n"
      ]
    },
    {
      "cell_type": "markdown",
      "metadata": {
        "id": "_4S6p7YuSyrs"
      },
      "source": [
        "### Other Contributors\n"
      ]
    },
    {
      "cell_type": "markdown",
      "metadata": {
        "id": "rpS2sddGSyrs"
      },
      "source": [
        "Rav Ahuja\n"
      ]
    },
    {
      "cell_type": "markdown",
      "metadata": {
        "id": "ef1nMzaRSyrs"
      },
      "source": [
        "## Change Log\n"
      ]
    },
    {
      "cell_type": "markdown",
      "metadata": {
        "id": "Aat24x0FSyrt"
      },
      "source": [
        "| Date (YYYY-MM-DD) | Version | Changed By        | Change Description                 |\n",
        "| ----------------- | ------- | ----------------- | ---------------------------------- |\n",
        "| 2020-11-25        | 0.1     | Ramesh Sannareddy | Created initial version of the lab |\n"
      ]
    },
    {
      "cell_type": "markdown",
      "metadata": {
        "id": "MX459RCeSyrt"
      },
      "source": [
        "Copyright © 2020 IBM Corporation. This notebook and its source code are released under the terms of the [MIT License](https://cognitiveclass.ai/mit-license?utm_medium=Exinfluencer&utm_source=Exinfluencer&utm_content=000026UJ&utm_term=10006555&utm_id=NA-SkillsNetwork-Channel-SkillsNetworkCoursesIBMDeveloperSkillsNetworkPY0221ENSkillsNetwork23455645-2022-01-01&cm_mmc=Email_Newsletter-\\_-Developer_Ed%2BTech-\\_-WW_WW-\\_-SkillsNetwork-Courses-IBM-DA0321EN-SkillsNetwork-21426264&cm_mmca1=000026UJ&cm_mmca2=10006555&cm_mmca3=M12345678&cvosrc=email.Newsletter.M12345678&cvo_campaign=000026UJ).\n"
      ]
    }
  ],
  "metadata": {
    "kernelspec": {
      "display_name": "Python 3.9",
      "language": "python",
      "name": "python3"
    },
    "language_info": {
      "codemirror_mode": {
        "name": "ipython",
        "version": 3
      },
      "file_extension": ".py",
      "mimetype": "text/x-python",
      "name": "python",
      "nbconvert_exporter": "python",
      "pygments_lexer": "ipython3",
      "version": "3.9.12"
    },
    "colab": {
      "provenance": [],
      "include_colab_link": true
    }
  },
  "nbformat": 4,
  "nbformat_minor": 0
}